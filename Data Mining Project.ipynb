{
 "cells": [
  {
   "cell_type": "code",
   "execution_count": 109,
   "id": "54fd4903",
   "metadata": {},
   "outputs": [],
   "source": [
    "import pandas as pd\n",
    "import numpy as np \n",
    "import matplotlib.pyplot as plt\n"
   ]
  },
  {
   "cell_type": "code",
   "execution_count": 110,
   "id": "05c9d306",
   "metadata": {},
   "outputs": [
    {
     "data": {
      "text/html": [
       "<div>\n",
       "<style scoped>\n",
       "    .dataframe tbody tr th:only-of-type {\n",
       "        vertical-align: middle;\n",
       "    }\n",
       "\n",
       "    .dataframe tbody tr th {\n",
       "        vertical-align: top;\n",
       "    }\n",
       "\n",
       "    .dataframe thead th {\n",
       "        text-align: right;\n",
       "    }\n",
       "</style>\n",
       "<table border=\"1\" class=\"dataframe\">\n",
       "  <thead>\n",
       "    <tr style=\"text-align: right;\">\n",
       "      <th></th>\n",
       "      <th>age</th>\n",
       "      <th>anaemia</th>\n",
       "      <th>creatinine_phosphokinase</th>\n",
       "      <th>diabetes</th>\n",
       "      <th>ejection_fraction</th>\n",
       "      <th>high_blood_pressure</th>\n",
       "      <th>platelets</th>\n",
       "      <th>serum_creatinine</th>\n",
       "      <th>serum_sodium</th>\n",
       "      <th>sex</th>\n",
       "      <th>smoking</th>\n",
       "      <th>time</th>\n",
       "      <th>DEATH_EVENT</th>\n",
       "    </tr>\n",
       "  </thead>\n",
       "  <tbody>\n",
       "    <tr>\n",
       "      <th>0</th>\n",
       "      <td>75.0</td>\n",
       "      <td>0</td>\n",
       "      <td>582</td>\n",
       "      <td>0</td>\n",
       "      <td>20</td>\n",
       "      <td>1</td>\n",
       "      <td>265000.00</td>\n",
       "      <td>1.9</td>\n",
       "      <td>130</td>\n",
       "      <td>1</td>\n",
       "      <td>0</td>\n",
       "      <td>4</td>\n",
       "      <td>1</td>\n",
       "    </tr>\n",
       "    <tr>\n",
       "      <th>1</th>\n",
       "      <td>55.0</td>\n",
       "      <td>0</td>\n",
       "      <td>7861</td>\n",
       "      <td>0</td>\n",
       "      <td>38</td>\n",
       "      <td>0</td>\n",
       "      <td>263358.03</td>\n",
       "      <td>1.1</td>\n",
       "      <td>136</td>\n",
       "      <td>1</td>\n",
       "      <td>0</td>\n",
       "      <td>6</td>\n",
       "      <td>1</td>\n",
       "    </tr>\n",
       "    <tr>\n",
       "      <th>2</th>\n",
       "      <td>65.0</td>\n",
       "      <td>0</td>\n",
       "      <td>146</td>\n",
       "      <td>0</td>\n",
       "      <td>20</td>\n",
       "      <td>0</td>\n",
       "      <td>162000.00</td>\n",
       "      <td>1.3</td>\n",
       "      <td>129</td>\n",
       "      <td>1</td>\n",
       "      <td>1</td>\n",
       "      <td>7</td>\n",
       "      <td>1</td>\n",
       "    </tr>\n",
       "    <tr>\n",
       "      <th>3</th>\n",
       "      <td>50.0</td>\n",
       "      <td>1</td>\n",
       "      <td>111</td>\n",
       "      <td>0</td>\n",
       "      <td>20</td>\n",
       "      <td>0</td>\n",
       "      <td>210000.00</td>\n",
       "      <td>1.9</td>\n",
       "      <td>137</td>\n",
       "      <td>1</td>\n",
       "      <td>0</td>\n",
       "      <td>7</td>\n",
       "      <td>1</td>\n",
       "    </tr>\n",
       "    <tr>\n",
       "      <th>4</th>\n",
       "      <td>65.0</td>\n",
       "      <td>1</td>\n",
       "      <td>160</td>\n",
       "      <td>1</td>\n",
       "      <td>20</td>\n",
       "      <td>0</td>\n",
       "      <td>327000.00</td>\n",
       "      <td>2.7</td>\n",
       "      <td>116</td>\n",
       "      <td>0</td>\n",
       "      <td>0</td>\n",
       "      <td>8</td>\n",
       "      <td>1</td>\n",
       "    </tr>\n",
       "  </tbody>\n",
       "</table>\n",
       "</div>"
      ],
      "text/plain": [
       "    age  anaemia  creatinine_phosphokinase  diabetes  ejection_fraction  \\\n",
       "0  75.0        0                       582         0                 20   \n",
       "1  55.0        0                      7861         0                 38   \n",
       "2  65.0        0                       146         0                 20   \n",
       "3  50.0        1                       111         0                 20   \n",
       "4  65.0        1                       160         1                 20   \n",
       "\n",
       "   high_blood_pressure  platelets  serum_creatinine  serum_sodium  sex  \\\n",
       "0                    1  265000.00               1.9           130    1   \n",
       "1                    0  263358.03               1.1           136    1   \n",
       "2                    0  162000.00               1.3           129    1   \n",
       "3                    0  210000.00               1.9           137    1   \n",
       "4                    0  327000.00               2.7           116    0   \n",
       "\n",
       "   smoking  time  DEATH_EVENT  \n",
       "0        0     4            1  \n",
       "1        0     6            1  \n",
       "2        1     7            1  \n",
       "3        0     7            1  \n",
       "4        0     8            1  "
      ]
     },
     "execution_count": 110,
     "metadata": {},
     "output_type": "execute_result"
    }
   ],
   "source": [
    "data = pd.read_csv(\"C:/Users/Administrator/Desktop/Data Mining/heart_failure_clinical_records_dataset.csv\")\n",
    "data.head()"
   ]
  },
  {
   "cell_type": "code",
   "execution_count": 111,
   "id": "0b2c3db7",
   "metadata": {},
   "outputs": [
    {
     "data": {
      "image/png": "[encoded data removed]",
      "text/plain": [
       "<Figure size 864x576 with 1 Axes>"
      ]
     },
     "metadata": {
      "needs_background": "light"
     },
     "output_type": "display_data"
    }
   ],
   "source": [
    "\n",
    "def counter(data):\n",
    "    death = list(data['DEATH_EVENT'])\n",
    "    death_count =[death.count(0), death.count(1)]\n",
    "    plt.figure(figsize=(12, 8))\n",
    "    plt.bar(x= ['Alive: '+str(death_count[0]),'Dead: '+str(death_count[1])], height = death_count)\n",
    "    plt.title(\"Data distribution\")\n",
    "    plt.show()\n",
    "                        \n",
    "counter(data)"
   ]
  },
  {
   "cell_type": "markdown",
   "id": "069603ab",
   "metadata": {},
   "source": [
    "# ML Algorithms"
   ]
  },
  {
   "cell_type": "code",
   "execution_count": 112,
   "id": "91c13996",
   "metadata": {},
   "outputs": [],
   "source": [
    "from sklearn.linear_model import LogisticRegression\n",
    "from sklearn.svm import SVC\n",
    "from sklearn.neighbors import KNeighborsClassifier\n",
    "from sklearn.tree import DecisionTreeClassifier\n",
    "from sklearn.naive_bayes import GaussianNB\n",
    "from sklearn.ensemble import RandomForestClassifier\n",
    "\n",
    "from sklearn.model_selection import train_test_split\n",
    "from sklearn.preprocessing import StandardScaler \n",
    "from sklearn.metrics import accuracy_score"
   ]
  },
  {
   "cell_type": "code",
   "execution_count": 113,
   "id": "9abb660b",
   "metadata": {},
   "outputs": [
    {
     "data": {
      "text/plain": [
       "(299, 6)"
      ]
     },
     "execution_count": 113,
     "metadata": {},
     "output_type": "execute_result"
    }
   ],
   "source": [
    "x = data[[\"age\",\"creatinine_phosphokinase\",\"ejection_fraction\",\"serum_creatinine\",\"serum_sodium\",\"time\"]]\n",
    "y = data[\"DEATH_EVENT\"]\n",
    "\n",
    "x_train, x_test, y_train, y_test = train_test_split(x, y, test_size=0.3, random_state=2)\n",
    "# Data scaling\n",
    "scaler = StandardScaler()\n",
    "x_train_scaled = scaler.fit_transform(x_train)\n",
    "x_test_scaled = scaler.transform(x_test)\n",
    "x.shape"
   ]
  },
  {
   "cell_type": "code",
   "execution_count": 114,
   "id": "e76b45e0",
   "metadata": {},
   "outputs": [],
   "source": [
    "from sklearn.model_selection import GridSearchCV\n",
    "\n",
    "def grid_search_LR():\n",
    "    logistic = LogisticRegression()\n",
    "    penalty = ['l1', 'l2']\n",
    "    C = np.logspace(0, 4, 10)\n",
    "    hyperparameters = dict(C=C, penalty=penalty)\n",
    "    clf = GridSearchCV(logistic, hyperparameters, cv=5, verbose=0)\n",
    "    return clf\n",
    "\n"
   ]
  },
  {
   "cell_type": "code",
   "execution_count": 115,
   "id": "cdcf03a1",
   "metadata": {},
   "outputs": [],
   "source": [
    "# Logisitic Regression\n",
    "def Logistic_Regression(x_train_scaled, y_train):\n",
    "    lr_model = grid_search_LR()\n",
    "    lr_model.fit(x_train_scaled, y_train)\n",
    "    lr_prediction = lr_model.predict(x_test_scaled)\n",
    "    lr_accuracy = (round(accuracy_score(lr_prediction, y_test), 4) * 100) #percentage\n",
    "    lr_accuracy_list = []\n",
    "    lr_accuracy_list.append(lr_accuracy)\n",
    "    print(\"Logistic Regression Model accuracy \"+str(lr_accuracy_list[0])+\"%\")\n",
    "    return lr_accuracy_list[0]"
   ]
  },
  {
   "cell_type": "code",
   "execution_count": 116,
   "id": "2f115972",
   "metadata": {},
   "outputs": [],
   "source": [
    "# SVM \n",
    "def SVM(x_train_scaled, y_train):\n",
    "    param_grid = {'C': [0.1,1, 10, 100], 'gamma': [1,0.1,0.01,0.001],'kernel': ['rbf', 'poly', 'sigmoid']}\n",
    "    grid = GridSearchCV(SVC(),param_grid,refit=True,verbose=0)\n",
    "    svc_model = grid\n",
    "    svc_model.fit(x_train_scaled, y_train)\n",
    "    svc_prediction = svc_model.predict(x_test_scaled)\n",
    "    svc_accuracy = (round(accuracy_score(svc_prediction, y_test), 4) * 100) #percentage\n",
    "    svm_accuracy_list=[]\n",
    "    svm_accuracy_list.append(svc_accuracy)\n",
    "    print(\"SVM Model accuracy \"+str(svm_accuracy_list[0])+\"%\")\n",
    "    return svm_accuracy_list[0]"
   ]
  },
  {
   "cell_type": "code",
   "execution_count": 117,
   "id": "bfcc9ea4",
   "metadata": {},
   "outputs": [],
   "source": [
    "# We use this program to find the optimal value of k\n",
    "def KNNs(x_train_scaled, y_train):\n",
    "    knn_list = []\n",
    "    for k in range(1,50):\n",
    "        knn_model = KNeighborsClassifier(n_neighbors=k)\n",
    "        knn_model.fit(x_train_scaled, y_train)\n",
    "        knn_prediction = knn_model.predict(x_test_scaled)\n",
    "        knn_accuracy = (round(accuracy_score(knn_prediction, y_test), 4) * 100)\n",
    "        knn_list.append(knn_accuracy)\n",
    "    k = np.arange(1,50)\n",
    "    if knn_list.index(max(knn_list))== 0:\n",
    "        neighbors = 2\n",
    "    else:\n",
    "        neighbors = knn_list.index(max(knn_list))\n",
    "    knn_model = KNeighborsClassifier(n_neighbors=neighbors)\n",
    "    knn_model.fit(x_train_scaled, y_train)\n",
    "    knn_prediction = knn_model.predict(x_test_scaled)\n",
    "    knn_accuracy = (round(accuracy_score(knn_prediction, y_test), 4) * 100) #percentage\n",
    "    kkn_accuracy_list=[]\n",
    "    kkn_accuracy_list.append(knn_accuracy)\n",
    "    print(\"KNNs Model accuracy \"+str(kkn_accuracy_list[0])+\"%\")\n",
    "    return kkn_accuracy_list[0]"
   ]
  },
  {
   "cell_type": "code",
   "execution_count": 118,
   "id": "30d5971a",
   "metadata": {},
   "outputs": [],
   "source": [
    "# Decion Tree\n",
    "def Decision_Tree(x_train_scaled, y_train):\n",
    "    tree_para = {'criterion':['gini','entropy'],'max_depth':[4,5,6,7,8,9,10,11,12,15,20,30,40,50,70,90,120,150]}\n",
    "    dt_model = DecisionTreeClassifier(criterion=\"entropy\", max_depth=2)\n",
    "    dt_model = clf = GridSearchCV(DecisionTreeClassifier(), tree_para, cv=5)\n",
    "    dt_model.fit(x_train_scaled, y_train)\n",
    "    dt_prediction = dt_model.predict(x_test_scaled)\n",
    "    dt_accuracy = (round(accuracy_score(dt_prediction, y_test), 4) * 100) #percentage\n",
    "    dt_accuracy_list=[]\n",
    "    dt_accuracy_list.append(dt_accuracy)\n",
    "    print(\"Decision Tree Model accuracy \"+str(dt_accuracy_list[0])+\"%\")\n",
    "    return dt_accuracy_list[0]"
   ]
  },
  {
   "cell_type": "code",
   "execution_count": 119,
   "id": "50fa6f90",
   "metadata": {},
   "outputs": [],
   "source": [
    "# Naive Bayes\n",
    "def Naive_Bayes(x_train_scaled, y_train):\n",
    "    nb_model = GaussianNB()\n",
    "    nb_model.fit(x_train_scaled, y_train)\n",
    "    nb_prediction = nb_model.predict(x_test_scaled)\n",
    "    nb_accuracy = (round(accuracy_score(nb_prediction, y_test), 4) * 100) #percentage\n",
    "    nb_accuracy_list=[]\n",
    "    nb_accuracy_list.append(nb_accuracy)\n",
    "    print(\"Naive Bayes Model accuracy \"+str(nb_accuracy_list[0])+\"%\")\n",
    "    return nb_accuracy_list[0]"
   ]
  },
  {
   "cell_type": "code",
   "execution_count": 120,
   "id": "8b676dc8",
   "metadata": {},
   "outputs": [],
   "source": [
    "# Random Forrest\n",
    "def Random_Forrest(x_train_scaled, y_train):\n",
    "    rf_model = RandomForestClassifier()\n",
    "    rf_model.fit(x_train_scaled, y_train)\n",
    "    rf_prediction = rf_model.predict(x_test_scaled)\n",
    "    rf_accuracy = (round(accuracy_score(rf_prediction, y_test), 4) * 100) #percentage\n",
    "    rf_accuracy_list=[]\n",
    "    rf_accuracy_list.append(rf_accuracy)\n",
    "    print(\"Random Forrest Model accuracy \"+str(rf_accuracy_list[0])+\"%\")\n",
    "    return rf_accuracy_list[0]"
   ]
  },
  {
   "cell_type": "code",
   "execution_count": 121,
   "id": "86449537",
   "metadata": {},
   "outputs": [
    {
     "name": "stderr",
     "output_type": "stream",
     "text": [
      "C:\\Users\\Administrator\\anaconda3\\envs\\tf-gpu\\lib\\site-packages\\sklearn\\model_selection\\_validation.py:372: FitFailedWarning: \n",
      "50 fits failed out of a total of 100.\n",
      "The score on these train-test partitions for these parameters will be set to nan.\n",
      "If these failures are not expected, you can try to debug them by setting error_score='raise'.\n",
      "\n",
      "Below are more details about the failures:\n",
      "--------------------------------------------------------------------------------\n",
      "50 fits failed with the following error:\n",
      "Traceback (most recent call last):\n",
      "  File \"C:\\Users\\Administrator\\anaconda3\\envs\\tf-gpu\\lib\\site-packages\\sklearn\\model_selection\\_validation.py\", line 681, in _fit_and_score\n",
      "    estimator.fit(X_train, y_train, **fit_params)\n",
      "  File \"C:\\Users\\Administrator\\anaconda3\\envs\\tf-gpu\\lib\\site-packages\\sklearn\\linear_model\\_logistic.py\", line 1461, in fit\n",
      "    solver = _check_solver(self.solver, self.penalty, self.dual)\n",
      "  File \"C:\\Users\\Administrator\\anaconda3\\envs\\tf-gpu\\lib\\site-packages\\sklearn\\linear_model\\_logistic.py\", line 447, in _check_solver\n",
      "    raise ValueError(\n",
      "ValueError: Solver lbfgs supports only 'l2' or 'none' penalties, got l1 penalty.\n",
      "\n",
      "  warnings.warn(some_fits_failed_message, FitFailedWarning)\n",
      "C:\\Users\\Administrator\\anaconda3\\envs\\tf-gpu\\lib\\site-packages\\sklearn\\model_selection\\_search.py:969: UserWarning: One or more of the test scores are non-finite: [       nan 0.81347271        nan 0.81835075        nan 0.81835075\n",
      "        nan 0.81835075        nan 0.81835075        nan 0.81835075\n",
      "        nan 0.81835075        nan 0.81835075        nan 0.81835075\n",
      "        nan 0.81835075]\n",
      "  warnings.warn(\n"
     ]
    },
    {
     "name": "stdout",
     "output_type": "stream",
     "text": [
      "Logistic Regression Model accuracy 87.78%\n",
      "SVM Model accuracy 90.0%\n",
      "KNNs Model accuracy 84.44%\n",
      "Decision Tree Model accuracy 85.56%\n",
      "Naive Bayes Model accuracy 82.22%\n",
      "Random Forrest Model accuracy 87.78%\n"
     ]
    },
    {
     "data": {
      "image/png": "[encoded data removed]",
      "text/plain": [
       "<Figure size 864x576 with 1 Axes>"
      ]
     },
     "metadata": {
      "needs_background": "light"
     },
     "output_type": "display_data"
    }
   ],
   "source": [
    "# Without SMOTE\n",
    "import seaborn as sns\n",
    "accuracies = [Logistic_Regression(x_train_scaled, y_train),SVM(x_train_scaled, y_train),KNNs(x_train_scaled, y_train),Decision_Tree(x_train_scaled, y_train),Naive_Bayes(x_train_scaled, y_train),Random_Forrest(x_train_scaled, y_train)]\n",
    "models = [\"Logistic Regression\",\"SVM\",\"KNNs\",\"Decision Tree\",\"Naive Bayes\",\"Random Forest\"]\n",
    "\n",
    "def accuracies_plot(models,accuracies, type_data):\n",
    "    plt.figure(figsize=(12, 8))\n",
    "    ax = sns.barplot(x=models, y=accuracies)\n",
    "    plt.xlabel(\"Classifiers\", fontsize=15)\n",
    "    plt.ylabel(\"Accuracy (%)\", fontsize=15)\n",
    "    plt.title(\"Accuracies: \"+ type_data, fontsize=25)\n",
    "    for p in ax.patches:\n",
    "        width = p.get_width()\n",
    "        height = p.get_height()\n",
    "        x = p.get_x()\n",
    "        y = p.get_y()\n",
    "        ax.annotate(f\"{height} %\", (x + width/2, y+ height*1.01), ha=\"center\")\n",
    "    plt.show()\n",
    "    \n",
    "accuracies_plot(models,accuracies, \"without any sampling\")"
   ]
  },
  {
   "cell_type": "code",
   "execution_count": 122,
   "id": "02d04d11",
   "metadata": {},
   "outputs": [],
   "source": [
    "# Splitting data according death outcome\n",
    "\n",
    "def split_data(data):\n",
    "    keys = list(data.keys())\n",
    "    dead_list=[]\n",
    "    alive_list=[]\n",
    "    for i in range(len(data['DEATH_EVENT'])):\n",
    "        if int(data.iloc[i]['DEATH_EVENT'])==1:\n",
    "            dead_list.append(list(data.iloc[i]))\n",
    "        else:\n",
    "            alive_list.append(list(data.iloc[i]))\n",
    "    alive_data=pd.DataFrame(alive_list, columns = keys)\n",
    "    dead_data=pd.DataFrame(dead_list, columns = keys)\n",
    "    return dead_data, alive_data\n",
    "            "
   ]
  },
  {
   "cell_type": "code",
   "execution_count": 123,
   "id": "2312b422",
   "metadata": {},
   "outputs": [],
   "source": [
    "dead_data, alive_data = split_data(data)"
   ]
  },
  {
   "cell_type": "code",
   "execution_count": 124,
   "id": "ab67b970",
   "metadata": {},
   "outputs": [
    {
     "data": {
      "text/html": [
       "<div>\n",
       "<style scoped>\n",
       "    .dataframe tbody tr th:only-of-type {\n",
       "        vertical-align: middle;\n",
       "    }\n",
       "\n",
       "    .dataframe tbody tr th {\n",
       "        vertical-align: top;\n",
       "    }\n",
       "\n",
       "    .dataframe thead th {\n",
       "        text-align: right;\n",
       "    }\n",
       "</style>\n",
       "<table border=\"1\" class=\"dataframe\">\n",
       "  <thead>\n",
       "    <tr style=\"text-align: right;\">\n",
       "      <th></th>\n",
       "      <th>age</th>\n",
       "      <th>anaemia</th>\n",
       "      <th>creatinine_phosphokinase</th>\n",
       "      <th>diabetes</th>\n",
       "      <th>ejection_fraction</th>\n",
       "      <th>high_blood_pressure</th>\n",
       "      <th>platelets</th>\n",
       "      <th>serum_creatinine</th>\n",
       "      <th>serum_sodium</th>\n",
       "      <th>sex</th>\n",
       "      <th>smoking</th>\n",
       "      <th>time</th>\n",
       "      <th>DEATH_EVENT</th>\n",
       "    </tr>\n",
       "  </thead>\n",
       "  <tbody>\n",
       "    <tr>\n",
       "      <th>0</th>\n",
       "      <td>49.0</td>\n",
       "      <td>1.0</td>\n",
       "      <td>80.0</td>\n",
       "      <td>0.0</td>\n",
       "      <td>30.0</td>\n",
       "      <td>1.0</td>\n",
       "      <td>427000.0</td>\n",
       "      <td>1.0</td>\n",
       "      <td>138.0</td>\n",
       "      <td>0.0</td>\n",
       "      <td>0.0</td>\n",
       "      <td>12.0</td>\n",
       "      <td>0.0</td>\n",
       "    </tr>\n",
       "    <tr>\n",
       "      <th>1</th>\n",
       "      <td>65.0</td>\n",
       "      <td>1.0</td>\n",
       "      <td>52.0</td>\n",
       "      <td>0.0</td>\n",
       "      <td>25.0</td>\n",
       "      <td>1.0</td>\n",
       "      <td>276000.0</td>\n",
       "      <td>1.3</td>\n",
       "      <td>137.0</td>\n",
       "      <td>0.0</td>\n",
       "      <td>0.0</td>\n",
       "      <td>16.0</td>\n",
       "      <td>0.0</td>\n",
       "    </tr>\n",
       "    <tr>\n",
       "      <th>2</th>\n",
       "      <td>53.0</td>\n",
       "      <td>0.0</td>\n",
       "      <td>63.0</td>\n",
       "      <td>1.0</td>\n",
       "      <td>60.0</td>\n",
       "      <td>0.0</td>\n",
       "      <td>368000.0</td>\n",
       "      <td>0.8</td>\n",
       "      <td>135.0</td>\n",
       "      <td>1.0</td>\n",
       "      <td>0.0</td>\n",
       "      <td>22.0</td>\n",
       "      <td>0.0</td>\n",
       "    </tr>\n",
       "    <tr>\n",
       "      <th>3</th>\n",
       "      <td>50.0</td>\n",
       "      <td>1.0</td>\n",
       "      <td>159.0</td>\n",
       "      <td>1.0</td>\n",
       "      <td>30.0</td>\n",
       "      <td>0.0</td>\n",
       "      <td>302000.0</td>\n",
       "      <td>1.2</td>\n",
       "      <td>138.0</td>\n",
       "      <td>0.0</td>\n",
       "      <td>0.0</td>\n",
       "      <td>29.0</td>\n",
       "      <td>0.0</td>\n",
       "    </tr>\n",
       "    <tr>\n",
       "      <th>4</th>\n",
       "      <td>60.0</td>\n",
       "      <td>0.0</td>\n",
       "      <td>2656.0</td>\n",
       "      <td>1.0</td>\n",
       "      <td>30.0</td>\n",
       "      <td>0.0</td>\n",
       "      <td>305000.0</td>\n",
       "      <td>2.3</td>\n",
       "      <td>137.0</td>\n",
       "      <td>1.0</td>\n",
       "      <td>0.0</td>\n",
       "      <td>30.0</td>\n",
       "      <td>0.0</td>\n",
       "    </tr>\n",
       "    <tr>\n",
       "      <th>...</th>\n",
       "      <td>...</td>\n",
       "      <td>...</td>\n",
       "      <td>...</td>\n",
       "      <td>...</td>\n",
       "      <td>...</td>\n",
       "      <td>...</td>\n",
       "      <td>...</td>\n",
       "      <td>...</td>\n",
       "      <td>...</td>\n",
       "      <td>...</td>\n",
       "      <td>...</td>\n",
       "      <td>...</td>\n",
       "      <td>...</td>\n",
       "    </tr>\n",
       "    <tr>\n",
       "      <th>198</th>\n",
       "      <td>62.0</td>\n",
       "      <td>0.0</td>\n",
       "      <td>61.0</td>\n",
       "      <td>1.0</td>\n",
       "      <td>38.0</td>\n",
       "      <td>1.0</td>\n",
       "      <td>155000.0</td>\n",
       "      <td>1.1</td>\n",
       "      <td>143.0</td>\n",
       "      <td>1.0</td>\n",
       "      <td>1.0</td>\n",
       "      <td>270.0</td>\n",
       "      <td>0.0</td>\n",
       "    </tr>\n",
       "    <tr>\n",
       "      <th>199</th>\n",
       "      <td>55.0</td>\n",
       "      <td>0.0</td>\n",
       "      <td>1820.0</td>\n",
       "      <td>0.0</td>\n",
       "      <td>38.0</td>\n",
       "      <td>0.0</td>\n",
       "      <td>270000.0</td>\n",
       "      <td>1.2</td>\n",
       "      <td>139.0</td>\n",
       "      <td>0.0</td>\n",
       "      <td>0.0</td>\n",
       "      <td>271.0</td>\n",
       "      <td>0.0</td>\n",
       "    </tr>\n",
       "    <tr>\n",
       "      <th>200</th>\n",
       "      <td>45.0</td>\n",
       "      <td>0.0</td>\n",
       "      <td>2060.0</td>\n",
       "      <td>1.0</td>\n",
       "      <td>60.0</td>\n",
       "      <td>0.0</td>\n",
       "      <td>742000.0</td>\n",
       "      <td>0.8</td>\n",
       "      <td>138.0</td>\n",
       "      <td>0.0</td>\n",
       "      <td>0.0</td>\n",
       "      <td>278.0</td>\n",
       "      <td>0.0</td>\n",
       "    </tr>\n",
       "    <tr>\n",
       "      <th>201</th>\n",
       "      <td>45.0</td>\n",
       "      <td>0.0</td>\n",
       "      <td>2413.0</td>\n",
       "      <td>0.0</td>\n",
       "      <td>38.0</td>\n",
       "      <td>0.0</td>\n",
       "      <td>140000.0</td>\n",
       "      <td>1.4</td>\n",
       "      <td>140.0</td>\n",
       "      <td>1.0</td>\n",
       "      <td>1.0</td>\n",
       "      <td>280.0</td>\n",
       "      <td>0.0</td>\n",
       "    </tr>\n",
       "    <tr>\n",
       "      <th>202</th>\n",
       "      <td>50.0</td>\n",
       "      <td>0.0</td>\n",
       "      <td>196.0</td>\n",
       "      <td>0.0</td>\n",
       "      <td>45.0</td>\n",
       "      <td>0.0</td>\n",
       "      <td>395000.0</td>\n",
       "      <td>1.6</td>\n",
       "      <td>136.0</td>\n",
       "      <td>1.0</td>\n",
       "      <td>1.0</td>\n",
       "      <td>285.0</td>\n",
       "      <td>0.0</td>\n",
       "    </tr>\n",
       "  </tbody>\n",
       "</table>\n",
       "<p>203 rows × 13 columns</p>\n",
       "</div>"
      ],
      "text/plain": [
       "      age  anaemia  creatinine_phosphokinase  diabetes  ejection_fraction  \\\n",
       "0    49.0      1.0                      80.0       0.0               30.0   \n",
       "1    65.0      1.0                      52.0       0.0               25.0   \n",
       "2    53.0      0.0                      63.0       1.0               60.0   \n",
       "3    50.0      1.0                     159.0       1.0               30.0   \n",
       "4    60.0      0.0                    2656.0       1.0               30.0   \n",
       "..    ...      ...                       ...       ...                ...   \n",
       "198  62.0      0.0                      61.0       1.0               38.0   \n",
       "199  55.0      0.0                    1820.0       0.0               38.0   \n",
       "200  45.0      0.0                    2060.0       1.0               60.0   \n",
       "201  45.0      0.0                    2413.0       0.0               38.0   \n",
       "202  50.0      0.0                     196.0       0.0               45.0   \n",
       "\n",
       "     high_blood_pressure  platelets  serum_creatinine  serum_sodium  sex  \\\n",
       "0                    1.0   427000.0               1.0         138.0  0.0   \n",
       "1                    1.0   276000.0               1.3         137.0  0.0   \n",
       "2                    0.0   368000.0               0.8         135.0  1.0   \n",
       "3                    0.0   302000.0               1.2         138.0  0.0   \n",
       "4                    0.0   305000.0               2.3         137.0  1.0   \n",
       "..                   ...        ...               ...           ...  ...   \n",
       "198                  1.0   155000.0               1.1         143.0  1.0   \n",
       "199                  0.0   270000.0               1.2         139.0  0.0   \n",
       "200                  0.0   742000.0               0.8         138.0  0.0   \n",
       "201                  0.0   140000.0               1.4         140.0  1.0   \n",
       "202                  0.0   395000.0               1.6         136.0  1.0   \n",
       "\n",
       "     smoking   time  DEATH_EVENT  \n",
       "0        0.0   12.0          0.0  \n",
       "1        0.0   16.0          0.0  \n",
       "2        0.0   22.0          0.0  \n",
       "3        0.0   29.0          0.0  \n",
       "4        0.0   30.0          0.0  \n",
       "..       ...    ...          ...  \n",
       "198      1.0  270.0          0.0  \n",
       "199      0.0  271.0          0.0  \n",
       "200      0.0  278.0          0.0  \n",
       "201      1.0  280.0          0.0  \n",
       "202      1.0  285.0          0.0  \n",
       "\n",
       "[203 rows x 13 columns]"
      ]
     },
     "execution_count": 124,
     "metadata": {},
     "output_type": "execute_result"
    }
   ],
   "source": [
    "alive_data"
   ]
  },
  {
   "cell_type": "code",
   "execution_count": 125,
   "id": "81bb1f98",
   "metadata": {},
   "outputs": [],
   "source": [
    "# Under sampling data\n",
    "\n",
    "from imblearn.over_sampling import RandomOverSampler\n",
    "from imblearn.under_sampling import RandomUnderSampler\n"
   ]
  },
  {
   "cell_type": "code",
   "execution_count": 126,
   "id": "0edad3d1",
   "metadata": {},
   "outputs": [],
   "source": [
    "from sklearn.datasets import make_classification\n",
    "X, y = make_classification(n_classes=2, class_sep=0.5,\n",
    "weights=[0.05, 0.95], n_informative=2, n_redundant=0, flip_y=0,\n",
    "n_features=2, n_clusters_per_class=1, n_samples=1000, random_state=10)"
   ]
  },
  {
   "cell_type": "code",
   "execution_count": 127,
   "id": "70a85ba1",
   "metadata": {},
   "outputs": [],
   "source": [
    "from imblearn.over_sampling import SMOTE\n",
    "sm = SMOTE(random_state=11)\n",
    "X_res, y_res = sm.fit_resample(x_train_scaled, y_train)"
   ]
  },
  {
   "cell_type": "code",
   "execution_count": 128,
   "id": "2410e0cf",
   "metadata": {},
   "outputs": [
    {
     "name": "stdout",
     "output_type": "stream",
     "text": [
      "dead :  137\n",
      "alive :  137\n"
     ]
    }
   ],
   "source": [
    "a = 0\n",
    "b = 0\n",
    "\n",
    "for i in y_res:\n",
    "    if i==0:\n",
    "        a=a+1\n",
    "    else:\n",
    "        b=b+1\n",
    "print(\"dead :  \" + str(b))\n",
    "print(\"alive :  \" +str(a))"
   ]
  },
  {
   "cell_type": "code",
   "execution_count": 129,
   "id": "30e3159b",
   "metadata": {},
   "outputs": [
    {
     "name": "stderr",
     "output_type": "stream",
     "text": [
      "C:\\Users\\Administrator\\anaconda3\\envs\\tf-gpu\\lib\\site-packages\\sklearn\\model_selection\\_validation.py:372: FitFailedWarning: \n",
      "50 fits failed out of a total of 100.\n",
      "The score on these train-test partitions for these parameters will be set to nan.\n",
      "If these failures are not expected, you can try to debug them by setting error_score='raise'.\n",
      "\n",
      "Below are more details about the failures:\n",
      "--------------------------------------------------------------------------------\n",
      "50 fits failed with the following error:\n",
      "Traceback (most recent call last):\n",
      "  File \"C:\\Users\\Administrator\\anaconda3\\envs\\tf-gpu\\lib\\site-packages\\sklearn\\model_selection\\_validation.py\", line 681, in _fit_and_score\n",
      "    estimator.fit(X_train, y_train, **fit_params)\n",
      "  File \"C:\\Users\\Administrator\\anaconda3\\envs\\tf-gpu\\lib\\site-packages\\sklearn\\linear_model\\_logistic.py\", line 1461, in fit\n",
      "    solver = _check_solver(self.solver, self.penalty, self.dual)\n",
      "  File \"C:\\Users\\Administrator\\anaconda3\\envs\\tf-gpu\\lib\\site-packages\\sklearn\\linear_model\\_logistic.py\", line 447, in _check_solver\n",
      "    raise ValueError(\n",
      "ValueError: Solver lbfgs supports only 'l2' or 'none' penalties, got l1 penalty.\n",
      "\n",
      "  warnings.warn(some_fits_failed_message, FitFailedWarning)\n",
      "C:\\Users\\Administrator\\anaconda3\\envs\\tf-gpu\\lib\\site-packages\\sklearn\\model_selection\\_search.py:969: UserWarning: One or more of the test scores are non-finite: [       nan 0.7776431         nan 0.78127946        nan 0.78127946\n",
      "        nan 0.78127946        nan 0.78127946        nan 0.78127946\n",
      "        nan 0.78127946        nan 0.78127946        nan 0.78127946\n",
      "        nan 0.78127946]\n",
      "  warnings.warn(\n"
     ]
    },
    {
     "name": "stdout",
     "output_type": "stream",
     "text": [
      "Logistic Regression Model accuracy 84.44%\n",
      "SVM Model accuracy 80.0%\n",
      "KNNs Model accuracy 81.11%\n",
      "Decision Tree Model accuracy 78.89%\n",
      "Naive Bayes Model accuracy 84.44%\n",
      "Random Forrest Model accuracy 87.78%\n"
     ]
    },
    {
     "data": {
      "image/png": "[encoded data removed]",
      "text/plain": [
       "<Figure size 864x576 with 1 Axes>"
      ]
     },
     "metadata": {
      "needs_background": "light"
     },
     "output_type": "display_data"
    }
   ],
   "source": [
    "# With SMOTE\n",
    "import seaborn as sns\n",
    "accuracies_smote = [Logistic_Regression(X_res, y_res),SVM(X_res, y_res),KNNs(X_res, y_res),Decision_Tree(X_res, y_res),Naive_Bayes(X_res, y_res),Random_Forrest(X_res, y_res)]\n",
    "models_smote = [\"Logistic Regression\",\"SVM\",\"KNNs\",\"Decision Tree\",\"Naive Bayes\",\"Random Forest\"]\n",
    "\n",
    "\n",
    "    \n",
    "accuracies_plot(models_smote,accuracies_smote, \"with SMOTE\")"
   ]
  },
  {
   "cell_type": "code",
   "execution_count": 130,
   "id": "cf516e7a",
   "metadata": {},
   "outputs": [
    {
     "name": "stdout",
     "output_type": "stream",
     "text": [
      "Logistic Regression difference in accuracy:  -3.34%\n",
      "SVM difference in accuracy:  -10.0%\n",
      "KNNs difference in accuracy:  -3.33%\n",
      "Decision Tree difference in accuracy:  -6.67%\n",
      "Naive Bayes difference in accuracy:  2.22%\n",
      "Random Forest difference in accuracy:  0.0%\n"
     ]
    },
    {
     "data": {
      "text/plain": [
       "[None, None, None, None, None, None]"
      ]
     },
     "execution_count": 130,
     "metadata": {},
     "output_type": "execute_result"
    }
   ],
   "source": [
    "[print(models_smote[i]+\" difference in accuracy:  \"+str(round(accuracies_smote[i]-accuracies[i],2))+\"%\") for i in range(len(accuracies_smote))]"
   ]
  },
  {
   "cell_type": "code",
   "execution_count": 131,
   "id": "14e09f23",
   "metadata": {},
   "outputs": [],
   "source": [
    "import random as rd\n",
    "def under_sampling(data):\n",
    "    dead_data, alive_data = split_data(data)\n",
    "    random_samples=[]\n",
    "    for i in range(len(dead_data)):\n",
    "        randy =  rd.randrange(len(alive_data))\n",
    "        while randy in random_samples:\n",
    "            randy =  rd.randrange(len(alive_data))\n",
    "        random_samples.append(randy)\n",
    "    return pd.concat([alive_data.loc[random_samples,:],dead_data ]).reset_index()\n",
    "        \n",
    "def over_sampling(data):\n",
    "    dead_data, alive_data = split_data(data)\n",
    "    random_samples=[]\n",
    "    for i in range(len(alive_data)):\n",
    "        randy =  rd.randrange(len(dead_data))\n",
    "        while random_samples.count(randy)>3:\n",
    "            randy =  rd.randrange(len(dead_data))\n",
    "        random_samples.append(randy)\n",
    "    return pd.concat([dead_data.loc[random_samples,:],alive_data ]).reset_index()\n",
    "        "
   ]
  },
  {
   "cell_type": "code",
   "execution_count": 132,
   "id": "b8e6c82c",
   "metadata": {},
   "outputs": [
    {
     "name": "stdout",
     "output_type": "stream",
     "text": [
      "undersampled data size:   192\n",
      "oversampled data size:   406\n"
     ]
    }
   ],
   "source": [
    "US_data = under_sampling(data)\n",
    "OS_data = over_sampling(data)\n",
    "print(\"undersampled data size:  \" , len(US_data))\n",
    "print(\"oversampled data size:  \" , len(OS_data))"
   ]
  },
  {
   "cell_type": "code",
   "execution_count": 133,
   "id": "925ea4bf",
   "metadata": {},
   "outputs": [],
   "source": [
    "x = US_data[[\"age\",\"creatinine_phosphokinase\",\"ejection_fraction\",\"serum_creatinine\",\"serum_sodium\",\"time\"]]\n",
    "y = US_data[\"DEATH_EVENT\"]\n",
    "\n",
    "x_train, x_test, y_train, y_test = train_test_split(x, y, test_size=0.3, random_state=2)\n",
    "# Data scaling\n",
    "scaler = StandardScaler()\n",
    "x_train_scaled = scaler.fit_transform(x_train)\n",
    "x_test_scaled = scaler.transform(x_test)"
   ]
  },
  {
   "cell_type": "code",
   "execution_count": 134,
   "id": "2b257668",
   "metadata": {},
   "outputs": [
    {
     "name": "stderr",
     "output_type": "stream",
     "text": [
      "C:\\Users\\Administrator\\anaconda3\\envs\\tf-gpu\\lib\\site-packages\\sklearn\\model_selection\\_validation.py:372: FitFailedWarning: \n",
      "50 fits failed out of a total of 100.\n",
      "The score on these train-test partitions for these parameters will be set to nan.\n",
      "If these failures are not expected, you can try to debug them by setting error_score='raise'.\n",
      "\n",
      "Below are more details about the failures:\n",
      "--------------------------------------------------------------------------------\n",
      "50 fits failed with the following error:\n",
      "Traceback (most recent call last):\n",
      "  File \"C:\\Users\\Administrator\\anaconda3\\envs\\tf-gpu\\lib\\site-packages\\sklearn\\model_selection\\_validation.py\", line 681, in _fit_and_score\n",
      "    estimator.fit(X_train, y_train, **fit_params)\n",
      "  File \"C:\\Users\\Administrator\\anaconda3\\envs\\tf-gpu\\lib\\site-packages\\sklearn\\linear_model\\_logistic.py\", line 1461, in fit\n",
      "    solver = _check_solver(self.solver, self.penalty, self.dual)\n",
      "  File \"C:\\Users\\Administrator\\anaconda3\\envs\\tf-gpu\\lib\\site-packages\\sklearn\\linear_model\\_logistic.py\", line 447, in _check_solver\n",
      "    raise ValueError(\n",
      "ValueError: Solver lbfgs supports only 'l2' or 'none' penalties, got l1 penalty.\n",
      "\n",
      "  warnings.warn(some_fits_failed_message, FitFailedWarning)\n",
      "C:\\Users\\Administrator\\anaconda3\\envs\\tf-gpu\\lib\\site-packages\\sklearn\\model_selection\\_search.py:969: UserWarning: One or more of the test scores are non-finite: [       nan 0.79059829        nan 0.78290598        nan 0.78290598\n",
      "        nan 0.78290598        nan 0.78290598        nan 0.78290598\n",
      "        nan 0.78290598        nan 0.78290598        nan 0.78290598\n",
      "        nan 0.78290598]\n",
      "  warnings.warn(\n"
     ]
    },
    {
     "name": "stdout",
     "output_type": "stream",
     "text": [
      "Logistic Regression Model accuracy 82.76%\n",
      "SVM Model accuracy 84.48%\n",
      "KNNs Model accuracy 81.03%\n",
      "Decision Tree Model accuracy 70.69%\n",
      "Naive Bayes Model accuracy 81.03%\n",
      "Random Forrest Model accuracy 81.03%\n"
     ]
    },
    {
     "data": {
      "image/png": "[encoded data removed]",
      "text/plain": [
       "<Figure size 864x576 with 1 Axes>"
      ]
     },
     "metadata": {
      "needs_background": "light"
     },
     "output_type": "display_data"
    }
   ],
   "source": [
    "# With Undersampling\n",
    "import seaborn as sns\n",
    "accuracies_under_sampling = [Logistic_Regression(x_train_scaled, y_train),SVM(x_train_scaled, y_train),KNNs(x_train_scaled, y_train),Decision_Tree(x_train_scaled, y_train),Naive_Bayes(x_train_scaled, y_train),Random_Forrest(x_train_scaled, y_train)]\n",
    "models_under_sampling = [\"Logistic Regression\",\"SVM\",\"KNNs\",\"Decision Tree\",\"Naive Bayes\",\"Random Forest\"]\n",
    "\n",
    "    \n",
    "accuracies_plot(models_under_sampling, accuracies_under_sampling, \"with Under-Sampling\")"
   ]
  },
  {
   "cell_type": "code",
   "execution_count": 135,
   "id": "7738a7b0",
   "metadata": {},
   "outputs": [
    {
     "name": "stdout",
     "output_type": "stream",
     "text": [
      "Logistic Regression difference in accuracy:  -5.02%\n",
      "SVM difference in accuracy:  -5.52%\n",
      "KNNs difference in accuracy:  -3.41%\n",
      "Decision Tree difference in accuracy:  -14.87%\n",
      "Naive Bayes difference in accuracy:  -1.19%\n",
      "Random Forest difference in accuracy:  -6.75%\n"
     ]
    },
    {
     "data": {
      "text/plain": [
       "[None, None, None, None, None, None]"
      ]
     },
     "execution_count": 135,
     "metadata": {},
     "output_type": "execute_result"
    }
   ],
   "source": [
    "[print(models_smote[i]+\" difference in accuracy:  \"+str(round(accuracies_under_sampling[i]-accuracies[i],4))+\"%\") for i in range(len(accuracies_smote))]"
   ]
  },
  {
   "cell_type": "code",
   "execution_count": null,
   "id": "030544e3",
   "metadata": {},
   "outputs": [],
   "source": []
  },
  {
   "cell_type": "code",
   "execution_count": null,
   "id": "80af8cfb",
   "metadata": {},
   "outputs": [],
   "source": []
  },
  {
   "cell_type": "code",
   "execution_count": 136,
   "id": "e1326df8",
   "metadata": {},
   "outputs": [],
   "source": [
    "x_OS = OS_data[[\"age\",\"creatinine_phosphokinase\",\"ejection_fraction\",\"serum_creatinine\",\"serum_sodium\",\"time\"]]\n",
    "y_OS = OS_data[\"DEATH_EVENT\"]\n",
    "\n",
    "x_train_OS, x_test_OS, y_train_OS, y_test_OS = train_test_split(x_OS, y_OS, test_size=0.3, random_state=2)\n",
    "# Data scaling\n",
    "scaler = StandardScaler()\n",
    "x_OS_train_scaled = scaler.fit_transform(x_train_OS)\n",
    "x_OS_test_scaled = scaler.transform(x_test_OS)"
   ]
  },
  {
   "cell_type": "code",
   "execution_count": 137,
   "id": "9d04ca29",
   "metadata": {},
   "outputs": [
    {
     "name": "stderr",
     "output_type": "stream",
     "text": [
      "C:\\Users\\Administrator\\anaconda3\\envs\\tf-gpu\\lib\\site-packages\\sklearn\\model_selection\\_validation.py:372: FitFailedWarning: \n",
      "50 fits failed out of a total of 100.\n",
      "The score on these train-test partitions for these parameters will be set to nan.\n",
      "If these failures are not expected, you can try to debug them by setting error_score='raise'.\n",
      "\n",
      "Below are more details about the failures:\n",
      "--------------------------------------------------------------------------------\n",
      "50 fits failed with the following error:\n",
      "Traceback (most recent call last):\n",
      "  File \"C:\\Users\\Administrator\\anaconda3\\envs\\tf-gpu\\lib\\site-packages\\sklearn\\model_selection\\_validation.py\", line 681, in _fit_and_score\n",
      "    estimator.fit(X_train, y_train, **fit_params)\n",
      "  File \"C:\\Users\\Administrator\\anaconda3\\envs\\tf-gpu\\lib\\site-packages\\sklearn\\linear_model\\_logistic.py\", line 1461, in fit\n",
      "    solver = _check_solver(self.solver, self.penalty, self.dual)\n",
      "  File \"C:\\Users\\Administrator\\anaconda3\\envs\\tf-gpu\\lib\\site-packages\\sklearn\\linear_model\\_logistic.py\", line 447, in _check_solver\n",
      "    raise ValueError(\n",
      "ValueError: Solver lbfgs supports only 'l2' or 'none' penalties, got l1 penalty.\n",
      "\n",
      "  warnings.warn(some_fits_failed_message, FitFailedWarning)\n",
      "C:\\Users\\Administrator\\anaconda3\\envs\\tf-gpu\\lib\\site-packages\\sklearn\\model_selection\\_search.py:969: UserWarning: One or more of the test scores are non-finite: [       nan 0.76033835        nan 0.75676692        nan 0.75676692\n",
      "        nan 0.75325815        nan 0.75325815        nan 0.75325815\n",
      "        nan 0.75325815        nan 0.75325815        nan 0.75325815\n",
      "        nan 0.75325815]\n",
      "  warnings.warn(\n"
     ]
    },
    {
     "name": "stdout",
     "output_type": "stream",
     "text": [
      "Logistic Regression Model accuracy 82.76%\n",
      "SVM Model accuracy 91.38%\n",
      "KNNs Model accuracy 89.66%\n",
      "Decision Tree Model accuracy 84.48%\n",
      "Naive Bayes Model accuracy 75.86%\n",
      "Random Forrest Model accuracy 93.10000000000001%\n"
     ]
    },
    {
     "data": {
      "image/png": "[encoded data removed]",
      "text/plain": [
       "<Figure size 864x576 with 1 Axes>"
      ]
     },
     "metadata": {
      "needs_background": "light"
     },
     "output_type": "display_data"
    }
   ],
   "source": [
    "# With Oversampling\n",
    "import seaborn as sns\n",
    "accuracies_over_sampling = [Logistic_Regression(x_OS_train_scaled, y_train_OS),\n",
    "                            SVM(x_OS_train_scaled, y_train_OS),\n",
    "                            KNNs(x_OS_train_scaled, y_train_OS),\n",
    "                            Decision_Tree(x_OS_train_scaled, y_train_OS),\n",
    "                            Naive_Bayes(x_OS_train_scaled, y_train_OS),\n",
    "                            Random_Forrest(x_OS_train_scaled, y_train_OS)]\n",
    "models_over_sampling = [\"Logistic Regression\",\"SVM\",\"KNNs\",\"Decision Tree\",\"Naive Bayes\",\"Random Forest\"]\n",
    "\n",
    "    \n",
    "accuracies_plot(models_over_sampling , accuracies_over_sampling, \"with Over-Sampling\")"
   ]
  },
  {
   "cell_type": "code",
   "execution_count": 138,
   "id": "f229e9ec",
   "metadata": {},
   "outputs": [
    {
     "name": "stdout",
     "output_type": "stream",
     "text": [
      "Logistic Regression difference in accuracy:  -5.02%\n",
      "SVM difference in accuracy:  1.38%\n",
      "KNNs difference in accuracy:  5.22%\n",
      "Decision Tree difference in accuracy:  -1.08%\n",
      "Naive Bayes difference in accuracy:  -6.36%\n",
      "Random Forest difference in accuracy:  5.32%\n"
     ]
    },
    {
     "data": {
      "text/plain": [
       "[None, None, None, None, None, None]"
      ]
     },
     "execution_count": 138,
     "metadata": {},
     "output_type": "execute_result"
    }
   ],
   "source": [
    "[print(models_smote[i]+\" difference in accuracy:  \"+str(round(accuracies_over_sampling[i]-accuracies[i],4))+\"%\") for i in range(len(accuracies_smote))]"
   ]
  },
  {
   "cell_type": "code",
   "execution_count": null,
   "id": "648464c1",
   "metadata": {},
   "outputs": [],
   "source": []
  },
  {
   "cell_type": "code",
   "execution_count": null,
   "id": "705f174d",
   "metadata": {},
   "outputs": [],
   "source": []
  },
  {
   "cell_type": "code",
   "execution_count": null,
   "id": "63837d7a",
   "metadata": {},
   "outputs": [],
   "source": []
  }
 ],
 "metadata": {
  "kernelspec": {
   "display_name": "Python 3 (ipykernel)",
   "language": "python",
   "name": "python3"
  },
  "language_info": {
   "codemirror_mode": {
    "name": "ipython",
    "version": 3
   },
   "file_extension": ".py",
   "mimetype": "text/x-python",
   "name": "python",
   "nbconvert_exporter": "python",
   "pygments_lexer": "ipython3",
   "version": "3.9.7"
  }
 },
 "nbformat": 4,
 "nbformat_minor": 5
}
